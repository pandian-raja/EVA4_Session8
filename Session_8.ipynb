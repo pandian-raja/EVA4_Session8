{
  "nbformat": 4,
  "nbformat_minor": 0,
  "metadata": {
    "colab": {
      "name": "Session_8.ipynb",
      "provenance": [],
      "collapsed_sections": [],
      "include_colab_link": true
    },
    "kernelspec": {
      "name": "python3",
      "display_name": "Python 3"
    },
    "accelerator": "GPU",
    "widgets": {
      "application/vnd.jupyter.widget-state+json": {
        "44e884174bce43ca9424d00c96d43da6": {
          "model_module": "@jupyter-widgets/controls",
          "model_name": "HBoxModel",
          "state": {
            "_view_name": "HBoxView",
            "_dom_classes": [],
            "_model_name": "HBoxModel",
            "_view_module": "@jupyter-widgets/controls",
            "_model_module_version": "1.5.0",
            "_view_count": null,
            "_view_module_version": "1.5.0",
            "box_style": "",
            "layout": "IPY_MODEL_a3c6c25c41c74bca9b5f7fe0ca36b3bf",
            "_model_module": "@jupyter-widgets/controls",
            "children": [
              "IPY_MODEL_4a4ab361e38947098a65de0f675b1c4e",
              "IPY_MODEL_764e2e9c84d8477db46972ef4d62f021"
            ]
          }
        },
        "a3c6c25c41c74bca9b5f7fe0ca36b3bf": {
          "model_module": "@jupyter-widgets/base",
          "model_name": "LayoutModel",
          "state": {
            "_view_name": "LayoutView",
            "grid_template_rows": null,
            "right": null,
            "justify_content": null,
            "_view_module": "@jupyter-widgets/base",
            "overflow": null,
            "_model_module_version": "1.2.0",
            "_view_count": null,
            "flex_flow": null,
            "width": null,
            "min_width": null,
            "border": null,
            "align_items": null,
            "bottom": null,
            "_model_module": "@jupyter-widgets/base",
            "top": null,
            "grid_column": null,
            "overflow_y": null,
            "overflow_x": null,
            "grid_auto_flow": null,
            "grid_area": null,
            "grid_template_columns": null,
            "flex": null,
            "_model_name": "LayoutModel",
            "justify_items": null,
            "grid_row": null,
            "max_height": null,
            "align_content": null,
            "visibility": null,
            "align_self": null,
            "height": null,
            "min_height": null,
            "padding": null,
            "grid_auto_rows": null,
            "grid_gap": null,
            "max_width": null,
            "order": null,
            "_view_module_version": "1.2.0",
            "grid_template_areas": null,
            "object_position": null,
            "object_fit": null,
            "grid_auto_columns": null,
            "margin": null,
            "display": null,
            "left": null
          }
        },
        "4a4ab361e38947098a65de0f675b1c4e": {
          "model_module": "@jupyter-widgets/controls",
          "model_name": "IntProgressModel",
          "state": {
            "_view_name": "ProgressView",
            "style": "IPY_MODEL_cfedbb9ce0dd47a18ff50dec6479f892",
            "_dom_classes": [],
            "description": "",
            "_model_name": "IntProgressModel",
            "bar_style": "success",
            "max": 1,
            "_view_module": "@jupyter-widgets/controls",
            "_model_module_version": "1.5.0",
            "value": 1,
            "_view_count": null,
            "_view_module_version": "1.5.0",
            "orientation": "horizontal",
            "min": 0,
            "description_tooltip": null,
            "_model_module": "@jupyter-widgets/controls",
            "layout": "IPY_MODEL_0f71a28aefc443b68fab00fb73002d8c"
          }
        },
        "764e2e9c84d8477db46972ef4d62f021": {
          "model_module": "@jupyter-widgets/controls",
          "model_name": "HTMLModel",
          "state": {
            "_view_name": "HTMLView",
            "style": "IPY_MODEL_3c14a4d00b764e19afc82dfe7884b466",
            "_dom_classes": [],
            "description": "",
            "_model_name": "HTMLModel",
            "placeholder": "​",
            "_view_module": "@jupyter-widgets/controls",
            "_model_module_version": "1.5.0",
            "value": "170500096it [00:06, 27896739.50it/s]",
            "_view_count": null,
            "_view_module_version": "1.5.0",
            "description_tooltip": null,
            "_model_module": "@jupyter-widgets/controls",
            "layout": "IPY_MODEL_34207b84d2b24d4a9bc5b601bc1521fb"
          }
        },
        "cfedbb9ce0dd47a18ff50dec6479f892": {
          "model_module": "@jupyter-widgets/controls",
          "model_name": "ProgressStyleModel",
          "state": {
            "_view_name": "StyleView",
            "_model_name": "ProgressStyleModel",
            "description_width": "",
            "_view_module": "@jupyter-widgets/base",
            "_model_module_version": "1.5.0",
            "_view_count": null,
            "_view_module_version": "1.2.0",
            "bar_color": null,
            "_model_module": "@jupyter-widgets/controls"
          }
        },
        "0f71a28aefc443b68fab00fb73002d8c": {
          "model_module": "@jupyter-widgets/base",
          "model_name": "LayoutModel",
          "state": {
            "_view_name": "LayoutView",
            "grid_template_rows": null,
            "right": null,
            "justify_content": null,
            "_view_module": "@jupyter-widgets/base",
            "overflow": null,
            "_model_module_version": "1.2.0",
            "_view_count": null,
            "flex_flow": null,
            "width": null,
            "min_width": null,
            "border": null,
            "align_items": null,
            "bottom": null,
            "_model_module": "@jupyter-widgets/base",
            "top": null,
            "grid_column": null,
            "overflow_y": null,
            "overflow_x": null,
            "grid_auto_flow": null,
            "grid_area": null,
            "grid_template_columns": null,
            "flex": null,
            "_model_name": "LayoutModel",
            "justify_items": null,
            "grid_row": null,
            "max_height": null,
            "align_content": null,
            "visibility": null,
            "align_self": null,
            "height": null,
            "min_height": null,
            "padding": null,
            "grid_auto_rows": null,
            "grid_gap": null,
            "max_width": null,
            "order": null,
            "_view_module_version": "1.2.0",
            "grid_template_areas": null,
            "object_position": null,
            "object_fit": null,
            "grid_auto_columns": null,
            "margin": null,
            "display": null,
            "left": null
          }
        },
        "3c14a4d00b764e19afc82dfe7884b466": {
          "model_module": "@jupyter-widgets/controls",
          "model_name": "DescriptionStyleModel",
          "state": {
            "_view_name": "StyleView",
            "_model_name": "DescriptionStyleModel",
            "description_width": "",
            "_view_module": "@jupyter-widgets/base",
            "_model_module_version": "1.5.0",
            "_view_count": null,
            "_view_module_version": "1.2.0",
            "_model_module": "@jupyter-widgets/controls"
          }
        },
        "34207b84d2b24d4a9bc5b601bc1521fb": {
          "model_module": "@jupyter-widgets/base",
          "model_name": "LayoutModel",
          "state": {
            "_view_name": "LayoutView",
            "grid_template_rows": null,
            "right": null,
            "justify_content": null,
            "_view_module": "@jupyter-widgets/base",
            "overflow": null,
            "_model_module_version": "1.2.0",
            "_view_count": null,
            "flex_flow": null,
            "width": null,
            "min_width": null,
            "border": null,
            "align_items": null,
            "bottom": null,
            "_model_module": "@jupyter-widgets/base",
            "top": null,
            "grid_column": null,
            "overflow_y": null,
            "overflow_x": null,
            "grid_auto_flow": null,
            "grid_area": null,
            "grid_template_columns": null,
            "flex": null,
            "_model_name": "LayoutModel",
            "justify_items": null,
            "grid_row": null,
            "max_height": null,
            "align_content": null,
            "visibility": null,
            "align_self": null,
            "height": null,
            "min_height": null,
            "padding": null,
            "grid_auto_rows": null,
            "grid_gap": null,
            "max_width": null,
            "order": null,
            "_view_module_version": "1.2.0",
            "grid_template_areas": null,
            "object_position": null,
            "object_fit": null,
            "grid_auto_columns": null,
            "margin": null,
            "display": null,
            "left": null
          }
        }
      }
    }
  },
  "cells": [
    {
      "cell_type": "markdown",
      "metadata": {
        "id": "view-in-github",
        "colab_type": "text"
      },
      "source": [
        "<a href=\"https://colab.research.google.com/github/pandian-raja/EVA4_Session8/blob/master/Session_8.ipynb\" target=\"_parent\"><img src=\"https://colab.research.google.com/assets/colab-badge.svg\" alt=\"Open In Colab\"/></a>"
      ]
    },
    {
      "cell_type": "markdown",
      "metadata": {
        "id": "nmsaT9-iOPQA",
        "colab_type": "text"
      },
      "source": [
        "#GetData.py \n",
        "GetData class contains code to download dataset."
      ]
    },
    {
      "cell_type": "code",
      "metadata": {
        "id": "nVBfJxnt0uO6",
        "colab_type": "code",
        "outputId": "5c659f83-f834-4461-dfbe-fab841349eab",
        "colab": {
          "base_uri": "https://localhost:8080/",
          "height": 204
        }
      },
      "source": [
        "!wget https://raw.githubusercontent.com/pandian-raja/EVA4_Session8/master/GetData.py"
      ],
      "execution_count": 1,
      "outputs": [
        {
          "output_type": "stream",
          "text": [
            "--2020-03-10 03:15:55--  https://raw.githubusercontent.com/pandian-raja/EVA4_Session8/master/GetData.py\n",
            "Resolving raw.githubusercontent.com (raw.githubusercontent.com)... 151.101.0.133, 151.101.64.133, 151.101.128.133, ...\n",
            "Connecting to raw.githubusercontent.com (raw.githubusercontent.com)|151.101.0.133|:443... connected.\n",
            "HTTP request sent, awaiting response... 200 OK\n",
            "Length: 2025 (2.0K) [text/plain]\n",
            "Saving to: ‘GetData.py’\n",
            "\n",
            "GetData.py          100%[===================>]   1.98K  --.-KB/s    in 0s      \n",
            "\n",
            "2020-03-10 03:16:00 (74.7 MB/s) - ‘GetData.py’ saved [2025/2025]\n",
            "\n"
          ],
          "name": "stdout"
        }
      ]
    },
    {
      "cell_type": "markdown",
      "metadata": {
        "id": "tQ6BdfRrPM4O",
        "colab_type": "text"
      },
      "source": [
        "#Model.py \n",
        "\n",
        "Model is defined inside the Model.py"
      ]
    },
    {
      "cell_type": "code",
      "metadata": {
        "id": "r6vj7NQQ0zx6",
        "colab_type": "code",
        "outputId": "42cae648-902e-4c06-95fc-9bf600859b6d",
        "colab": {
          "base_uri": "https://localhost:8080/",
          "height": 204
        }
      },
      "source": [
        "!wget https://raw.githubusercontent.com/pandian-raja/EVA4_Session8/master/resnet.py"
      ],
      "execution_count": 2,
      "outputs": [
        {
          "output_type": "stream",
          "text": [
            "--2020-03-10 03:16:02--  https://raw.githubusercontent.com/pandian-raja/EVA4_Session8/master/resnet.py\n",
            "Resolving raw.githubusercontent.com (raw.githubusercontent.com)... 151.101.0.133, 151.101.64.133, 151.101.128.133, ...\n",
            "Connecting to raw.githubusercontent.com (raw.githubusercontent.com)|151.101.0.133|:443... connected.\n",
            "HTTP request sent, awaiting response... 200 OK\n",
            "Length: 4005 (3.9K) [text/plain]\n",
            "Saving to: ‘resnet.py’\n",
            "\n",
            "\rresnet.py             0%[                    ]       0  --.-KB/s               \rresnet.py           100%[===================>]   3.91K  --.-KB/s    in 0s      \n",
            "\n",
            "2020-03-10 03:16:02 (124 MB/s) - ‘resnet.py’ saved [4005/4005]\n",
            "\n"
          ],
          "name": "stdout"
        }
      ]
    },
    {
      "cell_type": "markdown",
      "metadata": {
        "id": "_L1lz9fIPbLm",
        "colab_type": "text"
      },
      "source": [
        "#train_and_validation.py \n",
        "This file has code for training, validation and validation_by_individual_class."
      ]
    },
    {
      "cell_type": "code",
      "metadata": {
        "id": "GJVfRzkv00-_",
        "colab_type": "code",
        "outputId": "f82279bb-b329-4bbb-d4da-b158bdae3d4b",
        "colab": {
          "base_uri": "https://localhost:8080/",
          "height": 204
        }
      },
      "source": [
        "!wget https://raw.githubusercontent.com/pandian-raja/EVA4_Session7/master/train_and_validate.py"
      ],
      "execution_count": 19,
      "outputs": [
        {
          "output_type": "stream",
          "text": [
            "--2020-03-10 05:09:56--  https://raw.githubusercontent.com/pandian-raja/EVA4_Session7/master/train_and_validate.py\n",
            "Resolving raw.githubusercontent.com (raw.githubusercontent.com)... 151.101.0.133, 151.101.64.133, 151.101.128.133, ...\n",
            "Connecting to raw.githubusercontent.com (raw.githubusercontent.com)|151.101.0.133|:443... connected.\n",
            "HTTP request sent, awaiting response... 200 OK\n",
            "Length: 2736 (2.7K) [text/plain]\n",
            "Saving to: ‘train_and_validate.py’\n",
            "\n",
            "\rtrain_and_validate.   0%[                    ]       0  --.-KB/s               \rtrain_and_validate. 100%[===================>]   2.67K  --.-KB/s    in 0s      \n",
            "\n",
            "2020-03-10 05:09:56 (70.2 MB/s) - ‘train_and_validate.py’ saved [2736/2736]\n",
            "\n"
          ],
          "name": "stdout"
        }
      ]
    },
    {
      "cell_type": "markdown",
      "metadata": {
        "id": "ulWzfseGP74V",
        "colab_type": "text"
      },
      "source": [
        "Importing class from GitHub hosted files."
      ]
    },
    {
      "cell_type": "code",
      "metadata": {
        "id": "SKq2oYer0-Sz",
        "colab_type": "code",
        "outputId": "257a13b1-99d4-4e60-b134-33def1b7c39a",
        "colab": {
          "base_uri": "https://localhost:8080/",
          "height": 34
        }
      },
      "source": [
        "!pip install torchsummary\n",
        "from torchsummary import summary\n",
        "import GetData as gd\n",
        "import train_and_validate as tv"
      ],
      "execution_count": 21,
      "outputs": [
        {
          "output_type": "stream",
          "text": [
            "Requirement already satisfied: torchsummary in /usr/local/lib/python3.6/dist-packages (1.5.1)\n"
          ],
          "name": "stdout"
        }
      ]
    },
    {
      "cell_type": "code",
      "metadata": {
        "id": "gacy8mLa8-bz",
        "colab_type": "code",
        "colab": {}
      },
      "source": [
        "import resnet as rs"
      ],
      "execution_count": 0,
      "outputs": []
    },
    {
      "cell_type": "code",
      "metadata": {
        "id": "YSeB5QH51DFX",
        "colab_type": "code",
        "outputId": "64e9ad42-8400-4a94-9df5-c2f57b991484",
        "colab": {
          "base_uri": "https://localhost:8080/",
          "height": 134,
          "referenced_widgets": [
            "44e884174bce43ca9424d00c96d43da6",
            "a3c6c25c41c74bca9b5f7fe0ca36b3bf",
            "4a4ab361e38947098a65de0f675b1c4e",
            "764e2e9c84d8477db46972ef4d62f021",
            "cfedbb9ce0dd47a18ff50dec6479f892",
            "0f71a28aefc443b68fab00fb73002d8c",
            "3c14a4d00b764e19afc82dfe7884b466",
            "34207b84d2b24d4a9bc5b601bc1521fb"
          ]
        }
      },
      "source": [
        "trainloader, testloader, classes, device = gd.GetData.importDataset()"
      ],
      "execution_count": 6,
      "outputs": [
        {
          "output_type": "stream",
          "text": [
            "CUDA Available? True\n",
            "Downloading https://www.cs.toronto.edu/~kriz/cifar-10-python.tar.gz to ./data/cifar-10-python.tar.gz\n"
          ],
          "name": "stdout"
        },
        {
          "output_type": "display_data",
          "data": {
            "application/vnd.jupyter.widget-view+json": {
              "model_id": "44e884174bce43ca9424d00c96d43da6",
              "version_minor": 0,
              "version_major": 2
            },
            "text/plain": [
              "HBox(children=(IntProgress(value=1, bar_style='info', max=1), HTML(value='')))"
            ]
          },
          "metadata": {
            "tags": []
          }
        },
        {
          "output_type": "stream",
          "text": [
            "\n",
            "Extracting ./data/cifar-10-python.tar.gz to ./data\n",
            "Files already downloaded and verified\n"
          ],
          "name": "stdout"
        }
      ]
    },
    {
      "cell_type": "code",
      "metadata": {
        "id": "arq3PYj39Cs5",
        "colab_type": "code",
        "colab": {}
      },
      "source": [
        "model = rs.ResNet18().to(device);"
      ],
      "execution_count": 0,
      "outputs": []
    },
    {
      "cell_type": "code",
      "metadata": {
        "id": "7oNFMl1-9YtK",
        "colab_type": "code",
        "outputId": "cf546a90-3566-4b9f-f842-6daf29f24e77",
        "colab": {
          "base_uri": "https://localhost:8080/",
          "height": 1000
        }
      },
      "source": [
        "summary(model, input_size=(3, 32, 32))"
      ],
      "execution_count": 8,
      "outputs": [
        {
          "output_type": "stream",
          "text": [
            "----------------------------------------------------------------\n",
            "        Layer (type)               Output Shape         Param #\n",
            "================================================================\n",
            "            Conv2d-1           [-1, 64, 32, 32]           1,728\n",
            "       BatchNorm2d-2           [-1, 64, 32, 32]             128\n",
            "            Conv2d-3           [-1, 64, 32, 32]          36,864\n",
            "       BatchNorm2d-4           [-1, 64, 32, 32]             128\n",
            "            Conv2d-5           [-1, 64, 32, 32]          36,864\n",
            "       BatchNorm2d-6           [-1, 64, 32, 32]             128\n",
            "        BasicBlock-7           [-1, 64, 32, 32]               0\n",
            "            Conv2d-8           [-1, 64, 32, 32]          36,864\n",
            "       BatchNorm2d-9           [-1, 64, 32, 32]             128\n",
            "           Conv2d-10           [-1, 64, 32, 32]          36,864\n",
            "      BatchNorm2d-11           [-1, 64, 32, 32]             128\n",
            "       BasicBlock-12           [-1, 64, 32, 32]               0\n",
            "           Conv2d-13          [-1, 128, 16, 16]          73,728\n",
            "      BatchNorm2d-14          [-1, 128, 16, 16]             256\n",
            "           Conv2d-15          [-1, 128, 16, 16]         147,456\n",
            "      BatchNorm2d-16          [-1, 128, 16, 16]             256\n",
            "           Conv2d-17          [-1, 128, 16, 16]           8,192\n",
            "      BatchNorm2d-18          [-1, 128, 16, 16]             256\n",
            "       BasicBlock-19          [-1, 128, 16, 16]               0\n",
            "           Conv2d-20          [-1, 128, 16, 16]         147,456\n",
            "      BatchNorm2d-21          [-1, 128, 16, 16]             256\n",
            "           Conv2d-22          [-1, 128, 16, 16]         147,456\n",
            "      BatchNorm2d-23          [-1, 128, 16, 16]             256\n",
            "       BasicBlock-24          [-1, 128, 16, 16]               0\n",
            "           Conv2d-25            [-1, 256, 8, 8]         294,912\n",
            "      BatchNorm2d-26            [-1, 256, 8, 8]             512\n",
            "           Conv2d-27            [-1, 256, 8, 8]         589,824\n",
            "      BatchNorm2d-28            [-1, 256, 8, 8]             512\n",
            "           Conv2d-29            [-1, 256, 8, 8]          32,768\n",
            "      BatchNorm2d-30            [-1, 256, 8, 8]             512\n",
            "       BasicBlock-31            [-1, 256, 8, 8]               0\n",
            "           Conv2d-32            [-1, 256, 8, 8]         589,824\n",
            "      BatchNorm2d-33            [-1, 256, 8, 8]             512\n",
            "           Conv2d-34            [-1, 256, 8, 8]         589,824\n",
            "      BatchNorm2d-35            [-1, 256, 8, 8]             512\n",
            "       BasicBlock-36            [-1, 256, 8, 8]               0\n",
            "           Conv2d-37            [-1, 512, 4, 4]       1,179,648\n",
            "      BatchNorm2d-38            [-1, 512, 4, 4]           1,024\n",
            "           Conv2d-39            [-1, 512, 4, 4]       2,359,296\n",
            "      BatchNorm2d-40            [-1, 512, 4, 4]           1,024\n",
            "           Conv2d-41            [-1, 512, 4, 4]         131,072\n",
            "      BatchNorm2d-42            [-1, 512, 4, 4]           1,024\n",
            "       BasicBlock-43            [-1, 512, 4, 4]               0\n",
            "           Conv2d-44            [-1, 512, 4, 4]       2,359,296\n",
            "      BatchNorm2d-45            [-1, 512, 4, 4]           1,024\n",
            "           Conv2d-46            [-1, 512, 4, 4]       2,359,296\n",
            "      BatchNorm2d-47            [-1, 512, 4, 4]           1,024\n",
            "       BasicBlock-48            [-1, 512, 4, 4]               0\n",
            "           Linear-49                   [-1, 10]           5,130\n",
            "================================================================\n",
            "Total params: 11,173,962\n",
            "Trainable params: 11,173,962\n",
            "Non-trainable params: 0\n",
            "----------------------------------------------------------------\n",
            "Input size (MB): 0.01\n",
            "Forward/backward pass size (MB): 11.25\n",
            "Params size (MB): 42.63\n",
            "Estimated Total Size (MB): 53.89\n",
            "----------------------------------------------------------------\n"
          ],
          "name": "stdout"
        }
      ]
    },
    {
      "cell_type": "markdown",
      "metadata": {
        "id": "ChURAkYdQGHF",
        "colab_type": "text"
      },
      "source": [
        "Downloading CIFAR10 dataset and. check for GPU available."
      ]
    },
    {
      "cell_type": "markdown",
      "metadata": {
        "id": "1FI_dD7kQlDN",
        "colab_type": "text"
      },
      "source": [
        "Defining model\n"
      ]
    },
    {
      "cell_type": "markdown",
      "metadata": {
        "id": "KGtXiEqDQvpZ",
        "colab_type": "text"
      },
      "source": [
        "\n",
        "Training model for 20 epochs.\n"
      ]
    },
    {
      "cell_type": "code",
      "metadata": {
        "id": "odHnNPQ72vKt",
        "colab_type": "code",
        "outputId": "1dd7adee-7830-4e68-b89a-8b374055dc6c",
        "colab": {
          "base_uri": "https://localhost:8080/",
          "height": 1000
        }
      },
      "source": [
        "model = tv.train_and_validate.train(trainloader,device,model,20)"
      ],
      "execution_count": 9,
      "outputs": [
        {
          "output_type": "stream",
          "text": [
            "[1,  2000] loss: 2.062\n",
            "[1,  4000] loss: 1.767\n",
            "[1,  6000] loss: 1.598\n",
            "[1,  8000] loss: 1.441\n",
            "[1, 10000] loss: 1.339\n",
            "[1, 12000] loss: 1.227\n",
            "[2,  2000] loss: 1.081\n",
            "[2,  4000] loss: 1.032\n",
            "[2,  6000] loss: 1.009\n",
            "[2,  8000] loss: 0.938\n",
            "[2, 10000] loss: 0.907\n",
            "[2, 12000] loss: 0.875\n",
            "[3,  2000] loss: 0.811\n",
            "[3,  4000] loss: 0.799\n",
            "[3,  6000] loss: 0.756\n",
            "[3,  8000] loss: 0.762\n",
            "[3, 10000] loss: 0.725\n",
            "[3, 12000] loss: 0.737\n",
            "[4,  2000] loss: 0.667\n",
            "[4,  4000] loss: 0.666\n",
            "[4,  6000] loss: 0.651\n",
            "[4,  8000] loss: 0.656\n",
            "[4, 10000] loss: 0.652\n",
            "[4, 12000] loss: 0.628\n",
            "[5,  2000] loss: 0.594\n",
            "[5,  4000] loss: 0.580\n",
            "[5,  6000] loss: 0.578\n",
            "[5,  8000] loss: 0.563\n",
            "[5, 10000] loss: 0.543\n",
            "[5, 12000] loss: 0.557\n",
            "[6,  2000] loss: 0.526\n",
            "[6,  4000] loss: 0.533\n",
            "[6,  6000] loss: 0.509\n",
            "[6,  8000] loss: 0.485\n",
            "[6, 10000] loss: 0.504\n",
            "[6, 12000] loss: 0.512\n",
            "[7,  2000] loss: 0.465\n",
            "[7,  4000] loss: 0.487\n",
            "[7,  6000] loss: 0.478\n",
            "[7,  8000] loss: 0.453\n",
            "[7, 10000] loss: 0.476\n",
            "[7, 12000] loss: 0.456\n",
            "[8,  2000] loss: 0.436\n",
            "[8,  4000] loss: 0.432\n",
            "[8,  6000] loss: 0.453\n",
            "[8,  8000] loss: 0.430\n",
            "[8, 10000] loss: 0.411\n",
            "[8, 12000] loss: 0.430\n",
            "[9,  2000] loss: 0.397\n",
            "[9,  4000] loss: 0.398\n",
            "[9,  6000] loss: 0.411\n",
            "[9,  8000] loss: 0.402\n",
            "[9, 10000] loss: 0.377\n",
            "[9, 12000] loss: 0.403\n",
            "[10,  2000] loss: 0.359\n",
            "[10,  4000] loss: 0.357\n",
            "[10,  6000] loss: 0.379\n",
            "[10,  8000] loss: 0.383\n",
            "[10, 10000] loss: 0.381\n",
            "[10, 12000] loss: 0.373\n",
            "[11,  2000] loss: 0.345\n",
            "[11,  4000] loss: 0.343\n",
            "[11,  6000] loss: 0.341\n",
            "[11,  8000] loss: 0.344\n",
            "[11, 10000] loss: 0.331\n",
            "[11, 12000] loss: 0.356\n",
            "[12,  2000] loss: 0.313\n",
            "[12,  4000] loss: 0.326\n",
            "[12,  6000] loss: 0.327\n",
            "[12,  8000] loss: 0.317\n",
            "[12, 10000] loss: 0.332\n",
            "[12, 12000] loss: 0.316\n",
            "[13,  2000] loss: 0.282\n",
            "[13,  4000] loss: 0.297\n",
            "[13,  6000] loss: 0.307\n",
            "[13,  8000] loss: 0.298\n",
            "[13, 10000] loss: 0.316\n",
            "[13, 12000] loss: 0.316\n",
            "[14,  2000] loss: 0.277\n",
            "[14,  4000] loss: 0.284\n",
            "[14,  6000] loss: 0.286\n",
            "[14,  8000] loss: 0.284\n",
            "[14, 10000] loss: 0.288\n",
            "[14, 12000] loss: 0.299\n",
            "[15,  2000] loss: 0.269\n",
            "[15,  4000] loss: 0.278\n",
            "[15,  6000] loss: 0.254\n",
            "[15,  8000] loss: 0.281\n",
            "[15, 10000] loss: 0.261\n",
            "[15, 12000] loss: 0.275\n",
            "[16,  2000] loss: 0.253\n",
            "[16,  4000] loss: 0.275\n",
            "[16,  6000] loss: 0.253\n",
            "[16,  8000] loss: 0.242\n",
            "[16, 10000] loss: 0.262\n",
            "[16, 12000] loss: 0.256\n",
            "[17,  2000] loss: 0.230\n",
            "[17,  4000] loss: 0.242\n",
            "[17,  6000] loss: 0.239\n",
            "[17,  8000] loss: 0.241\n",
            "[17, 10000] loss: 0.255\n",
            "[17, 12000] loss: 0.239\n",
            "[18,  2000] loss: 0.213\n",
            "[18,  4000] loss: 0.218\n",
            "[18,  6000] loss: 0.241\n",
            "[18,  8000] loss: 0.231\n",
            "[18, 10000] loss: 0.238\n",
            "[18, 12000] loss: 0.227\n",
            "[19,  2000] loss: 0.198\n",
            "[19,  4000] loss: 0.222\n",
            "[19,  6000] loss: 0.225\n",
            "[19,  8000] loss: 0.216\n",
            "[19, 10000] loss: 0.226\n",
            "[19, 12000] loss: 0.219\n",
            "[20,  2000] loss: 0.191\n",
            "[20,  4000] loss: 0.199\n",
            "[20,  6000] loss: 0.210\n",
            "[20,  8000] loss: 0.209\n",
            "[20, 10000] loss: 0.213\n",
            "[20, 12000] loss: 0.204\n",
            "Finished Training\n"
          ],
          "name": "stdout"
        }
      ]
    },
    {
      "cell_type": "markdown",
      "metadata": {
        "id": "kkSgdkvMRAJa",
        "colab_type": "text"
      },
      "source": [
        "Evaluavating overall validation accuracy of our model.\n"
      ]
    },
    {
      "cell_type": "code",
      "metadata": {
        "id": "zMqeZYML_Dla",
        "colab_type": "code",
        "outputId": "84b50586-305f-474c-f2ec-31767d13f1d8",
        "colab": {
          "base_uri": "https://localhost:8080/",
          "height": 34
        }
      },
      "source": [
        "tv.train_and_validate.validate(testloader,device,model)"
      ],
      "execution_count": 10,
      "outputs": [
        {
          "output_type": "stream",
          "text": [
            "Accuracy of the network on the 10000 test images: 88 %\n"
          ],
          "name": "stdout"
        }
      ]
    },
    {
      "cell_type": "markdown",
      "metadata": {
        "id": "pQy8V831RMYF",
        "colab_type": "text"
      },
      "source": [
        "Evaluavating Individual class accuracy of our model.\n"
      ]
    },
    {
      "cell_type": "code",
      "metadata": {
        "id": "23FFtiwsUoYo",
        "colab_type": "code",
        "outputId": "031b2f92-8116-4233-892c-b87b71a58406",
        "colab": {
          "base_uri": "https://localhost:8080/",
          "height": 187
        }
      },
      "source": [
        "tv.train_and_validate.classValidation(testloader,device,model,classes)"
      ],
      "execution_count": 11,
      "outputs": [
        {
          "output_type": "stream",
          "text": [
            "Accuracy of plane : 93 %\n",
            "Accuracy of   car : 94 %\n",
            "Accuracy of  bird : 80 %\n",
            "Accuracy of   cat : 72 %\n",
            "Accuracy of  deer : 92 %\n",
            "Accuracy of   dog : 77 %\n",
            "Accuracy of  frog : 93 %\n",
            "Accuracy of horse : 91 %\n",
            "Accuracy of  ship : 92 %\n",
            "Accuracy of truck : 91 %\n"
          ],
          "name": "stdout"
        }
      ]
    },
    {
      "cell_type": "markdown",
      "metadata": {
        "id": "YG2j951w3p-o",
        "colab_type": "text"
      },
      "source": [
        "Training model for 10 epochs for more accuracy."
      ]
    },
    {
      "cell_type": "code",
      "metadata": {
        "colab_type": "code",
        "id": "M5CGfdxOIXKp",
        "outputId": "f0263d18-ee6e-4327-b298-6849750ccef5",
        "colab": {
          "base_uri": "https://localhost:8080/",
          "height": 1000
        }
      },
      "source": [
        "model = tv.train_and_validate.train(trainloader,device,model, 10)"
      ],
      "execution_count": 12,
      "outputs": [
        {
          "output_type": "stream",
          "text": [
            "[1,  2000] loss: 0.180\n",
            "[1,  4000] loss: 0.186\n",
            "[1,  6000] loss: 0.195\n",
            "[1,  8000] loss: 0.196\n",
            "[1, 10000] loss: 0.207\n",
            "[1, 12000] loss: 0.207\n",
            "[2,  2000] loss: 0.175\n",
            "[2,  4000] loss: 0.176\n",
            "[2,  6000] loss: 0.185\n",
            "[2,  8000] loss: 0.193\n",
            "[2, 10000] loss: 0.187\n",
            "[2, 12000] loss: 0.195\n",
            "[3,  2000] loss: 0.171\n",
            "[3,  4000] loss: 0.166\n",
            "[3,  6000] loss: 0.175\n",
            "[3,  8000] loss: 0.175\n",
            "[3, 10000] loss: 0.179\n",
            "[3, 12000] loss: 0.194\n",
            "[4,  2000] loss: 0.168\n",
            "[4,  4000] loss: 0.168\n",
            "[4,  6000] loss: 0.173\n",
            "[4,  8000] loss: 0.176\n",
            "[4, 10000] loss: 0.176\n",
            "[4, 12000] loss: 0.184\n",
            "[5,  2000] loss: 0.156\n",
            "[5,  4000] loss: 0.156\n",
            "[5,  6000] loss: 0.145\n",
            "[5,  8000] loss: 0.160\n",
            "[5, 10000] loss: 0.179\n",
            "[5, 12000] loss: 0.177\n",
            "[6,  2000] loss: 0.134\n",
            "[6,  4000] loss: 0.159\n",
            "[6,  6000] loss: 0.151\n",
            "[6,  8000] loss: 0.157\n",
            "[6, 10000] loss: 0.161\n",
            "[6, 12000] loss: 0.156\n",
            "[7,  2000] loss: 0.143\n",
            "[7,  4000] loss: 0.144\n",
            "[7,  6000] loss: 0.154\n",
            "[7,  8000] loss: 0.156\n",
            "[7, 10000] loss: 0.147\n",
            "[7, 12000] loss: 0.152\n",
            "[8,  2000] loss: 0.136\n",
            "[8,  4000] loss: 0.133\n",
            "[8,  6000] loss: 0.142\n",
            "[8,  8000] loss: 0.145\n",
            "[8, 10000] loss: 0.136\n",
            "[8, 12000] loss: 0.148\n",
            "[9,  2000] loss: 0.127\n",
            "[9,  4000] loss: 0.129\n",
            "[9,  6000] loss: 0.121\n",
            "[9,  8000] loss: 0.147\n",
            "[9, 10000] loss: 0.144\n",
            "[9, 12000] loss: 0.144\n",
            "[10,  2000] loss: 0.125\n",
            "[10,  4000] loss: 0.138\n",
            "[10,  6000] loss: 0.137\n",
            "[10,  8000] loss: 0.130\n",
            "[10, 10000] loss: 0.130\n",
            "[10, 12000] loss: 0.130\n",
            "Finished Training\n"
          ],
          "name": "stdout"
        }
      ]
    },
    {
      "cell_type": "code",
      "metadata": {
        "id": "YL1lCknYEvFp",
        "colab_type": "code",
        "outputId": "ec3348e9-5a9b-4a3a-a970-4da422c63984",
        "colab": {
          "base_uri": "https://localhost:8080/",
          "height": 34
        }
      },
      "source": [
        "tv.train_and_validate.validate(testloader,device,model)"
      ],
      "execution_count": 22,
      "outputs": [
        {
          "output_type": "stream",
          "text": [
            "Accuracy of the network on the 10000 test images: 89 %\n"
          ],
          "name": "stdout"
        }
      ]
    },
    {
      "cell_type": "code",
      "metadata": {
        "id": "7ijGktYWEzb4",
        "colab_type": "code",
        "outputId": "5671c3d6-0918-4515-8e7b-4e075ad2ea72",
        "colab": {
          "base_uri": "https://localhost:8080/",
          "height": 187
        }
      },
      "source": [
        "tv.train_and_validate.classValidation(testloader,device,model,classes)"
      ],
      "execution_count": 23,
      "outputs": [
        {
          "output_type": "stream",
          "text": [
            "Accuracy of plane : 91 %\n",
            "Accuracy of   car : 95 %\n",
            "Accuracy of  bird : 78 %\n",
            "Accuracy of   cat : 78 %\n",
            "Accuracy of  deer : 88 %\n",
            "Accuracy of   dog : 87 %\n",
            "Accuracy of  frog : 92 %\n",
            "Accuracy of horse : 93 %\n",
            "Accuracy of  ship : 92 %\n",
            "Accuracy of truck : 94 %\n"
          ],
          "name": "stdout"
        }
      ]
    }
  ]
}